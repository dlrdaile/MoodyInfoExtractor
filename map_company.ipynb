{
 "cells": [
  {
   "cell_type": "code",
   "id": "initial_id",
   "metadata": {
    "collapsed": true,
    "ExecuteTime": {
     "end_time": "2024-10-22T13:55:45.420019Z",
     "start_time": "2024-10-22T13:55:44.538668Z"
    }
   },
   "source": [
    "import pandas as pd\n",
    "from fuzzywuzzy import fuzz\n",
    "from fuzzywuzzy import process\n",
    "import json\n",
    "from pathlib import Path\n",
    "from warnings import filterwarnings\n",
    "filterwarnings(\"ignore\")"
   ],
   "outputs": [],
   "execution_count": 1
  },
  {
   "metadata": {
    "ExecuteTime": {
     "end_time": "2024-10-22T13:55:45.429399Z",
     "start_time": "2024-10-22T13:55:45.422114Z"
    }
   },
   "cell_type": "code",
   "source": [
    "from datetime import datetime\n",
    "\n",
    "def add_time_if_missing(date_str,add_time=\"23:59:59\"):\n",
    "    try:\n",
    "        # 尝试解析带有时间的日期格式\n",
    "        date_with_time = datetime.strptime(date_str, \"%Y-%m-%d %H:%M:%S\")\n",
    "        return date_str  # 已经有时间数据，返回原日期字符串\n",
    "    except ValueError:\n",
    "        try:\n",
    "            # 尝试解析不带时间的日期格式\n",
    "            date_without_time = datetime.strptime(date_str, \"%Y-%m-%d\")\n",
    "            # 如果没有时间数据，添加当天的23:59:59\n",
    "            return date_without_time.strftime(\"%Y-%m-%d\") + f\" {add_time}\"\n",
    "        except ValueError:\n",
    "            return \"日期格式不正确\""
   ],
   "id": "769ab4c14ad984ab",
   "outputs": [],
   "execution_count": 2
  },
  {
   "metadata": {
    "ExecuteTime": {
     "end_time": "2024-10-22T13:55:45.435752Z",
     "start_time": "2024-10-22T13:55:45.431419Z"
    }
   },
   "cell_type": "code",
   "source": [
    "# 使用fuzzywuzzy进行相似度匹配\n",
    "def match_company(name, choices, limit=5):\n",
    "    return process.extract(name, choices, scorer=fuzz.token_sort_ratio, limit=limit)"
   ],
   "id": "e84853e763e898e2",
   "outputs": [],
   "execution_count": 3
  },
  {
   "metadata": {
    "ExecuteTime": {
     "end_time": "2024-10-22T13:56:04.696070Z",
     "start_time": "2024-10-22T13:55:46.338764Z"
    }
   },
   "cell_type": "code",
   "source": [
    "issr_watch_df = pd.read_stata(\"./data/ISSR_WATCH.dta\")\n",
    "issr_watch_df['watch_datetime'] = issr_watch_df['watch_datetime'].astype(str).apply(lambda x: add_time_if_missing(x,add_time=\"00:00:00\"))\n",
    "issr_watch_df['watch_end_datetime'] = issr_watch_df['watch_end_datetime'].astype(str).apply(lambda x: add_time_if_missing(x,add_time=\"23:59:59\"))\n",
    "issr_watch_df['watch_datetime'] = pd.to_datetime(issr_watch_df['watch_datetime'])\n",
    "issr_watch_df['watch_end_datetime'] = pd.to_datetime(issr_watch_df['watch_end_datetime'])\n",
    "debt_watch_df = pd.read_stata(\"./data/DEBT_WATCH.dta\")\n",
    "debt_watch_df['watch_datetime'] = debt_watch_df['watch_datetime'].astype(str).apply(lambda x: add_time_if_missing(x,add_time=\"00:00:00\"))\n",
    "debt_watch_df['watch_end_datetime'] = debt_watch_df['watch_end_datetime'].astype(str).apply(lambda x: add_time_if_missing(x,add_time=\"23:59:59\"))\n",
    "debt_watch_df['watch_datetime'] = pd.to_datetime(debt_watch_df['watch_datetime'])\n",
    "debt_watch_df['watch_end_datetime'] = pd.to_datetime(debt_watch_df['watch_end_datetime'])\n",
    "mast_issr_df = pd.read_stata(\"./data/MAST_ISSR.dta\")\n",
    "mast_issr_num_name_dict = mast_issr_df.set_index('mast_issr_num')['issuer_nam'].to_dict()"
   ],
   "id": "922d94797b3a68b7",
   "outputs": [],
   "execution_count": 4
  },
  {
   "metadata": {
    "ExecuteTime": {
     "end_time": "2024-10-22T13:50:02.493477Z",
     "start_time": "2024-10-22T13:50:02.484776Z"
    }
   },
   "cell_type": "code",
   "source": [
    "def map_company(file_name:Path):\n",
    "    with open(file_name, 'r') as f:\n",
    "        data = json.load(f)\n",
    "    company_name = data.get('Company Name',None)\n",
    "    publish_date = data.get('report_publish_date',None)\n",
    "    data['Company Matches'] = []\n",
    "    data['Is In ISSR Watch'] = False\n",
    "    data['Is In Debt Watch'] = False\n",
    "    data['ISSR Watch'] = []\n",
    "    data['Debt Watch'] = []\n",
    "    if company_name is not None and publish_date is not None:\n",
    "        matches = match_company(company_name, mast_issr_num_name_dict, limit=2)\n",
    "        # print(company_name,matches)\n",
    "        if len(matches) > 0:\n",
    "            matches_list = pd.DataFrame(matches,columns=['Company Name','Score','Issuer Number']).to_dict(orient='records')\n",
    "            data['Company Matches'] = matches_list\n",
    "            max_match = matches[0]\n",
    "            max_match_issr_num = max_match[-1]\n",
    "            data['Max Match Company'] = matches_list[0]\n",
    "            publish_date = pd.to_datetime(publish_date)\n",
    "            match_issr_watch_df = issr_watch_df.query(f\"mast_issr_num == {max_match_issr_num} and (watch_datetime <= '{publish_date}' or watch_datetime == 'NaT') and (watch_end_datetime >= '{publish_date}' or watch_end_datetime == 'NaT')\")\n",
    "            match_debt_watch_df = debt_watch_df.query(f\"mast_issr_num == {max_match_issr_num} and (watch_datetime <= '{publish_date}' or watch_datetime == 'NaT') and (watch_end_datetime >= '{publish_date}' or watch_end_datetime == 'NaT')\")\n",
    "            if match_issr_watch_df.shape[0] > 0:\n",
    "                match_issr_watch_df['watch_datetime'] = match_issr_watch_df['watch_datetime'].dt.strftime('%Y-%m-%dT%H:%M:%S').fillna('')\n",
    "                match_issr_watch_df['watch_end_datetime'] = match_issr_watch_df['watch_end_datetime'].dt.strftime('%Y-%m-%dT%H:%M:%S').fillna('')\n",
    "                data['ISSR Watch'] = match_issr_watch_df.to_dict(orient='records')\n",
    "                data['Is In ISSR Watch'] = True\n",
    "            if match_debt_watch_df.shape[0] > 0:\n",
    "                match_debt_watch_df['watch_datetime'] = match_debt_watch_df['watch_datetime'].dt.strftime('%Y-%m-%dT%H:%M:%S').fillna('')\n",
    "                match_debt_watch_df['watch_end_datetime'] = match_debt_watch_df['watch_end_datetime'].dt.strftime('%Y-%m-%dT%H:%M:%S').fillna('')\n",
    "                data['Debt Watch'] = match_debt_watch_df.to_dict(orient='records')\n",
    "                data['Is In Debt Watch'] = True\n",
    "    return data"
   ],
   "id": "db804d752aee06ed",
   "outputs": [],
   "execution_count": 4
  },
  {
   "metadata": {
    "ExecuteTime": {
     "end_time": "2024-10-22T13:50:02.500392Z",
     "start_time": "2024-10-22T13:50:02.493992Z"
    }
   },
   "cell_type": "code",
   "source": [
    "def get_save_path(data, matched_data_path:Path):\n",
    "    is_in_issr_watch = data.get('Is In ISSR Watch',False)\n",
    "    is_in_debt_watch = data.get('Is In Debt Watch',False)\n",
    "    if is_in_debt_watch and is_in_issr_watch:\n",
    "        save_path = matched_data_path / 'both'\n",
    "    elif is_in_issr_watch:\n",
    "        save_path = matched_data_path / 'issr'\n",
    "    elif is_in_debt_watch:\n",
    "        save_path = matched_data_path  / 'debt'\n",
    "    else:\n",
    "        save_path = matched_data_path  / 'none'\n",
    "    save_path.mkdir(parents=True,exist_ok=True)\n",
    "    save_file_path = save_path / file_path.name\n",
    "    return save_file_path"
   ],
   "id": "f16905dae8a1cd64",
   "outputs": [],
   "execution_count": 5
  },
  {
   "metadata": {
    "ExecuteTime": {
     "end_time": "2024-10-22T13:51:33.897685Z",
     "start_time": "2024-10-22T13:50:27.693419Z"
    }
   },
   "cell_type": "code",
   "source": [
    "start_year = 1995\n",
    "end_year = 2000\n",
    "for year in range(start_year,end_year+1):\n",
    "    year_path = Path(f\"./data/{year}\")\n",
    "    valid_file_path = year_path / 'processed' / 'valid'\n",
    "    match_file_path = year_path / 'matched'\n",
    "    valid_processed_file_list = list(valid_file_path.glob('*.json'))\n",
    "    for file_path in valid_processed_file_list:\n",
    "        exit_match_file = list(match_file_path.rglob(file_path.name))\n",
    "        if len(exit_match_file) > 0:\n",
    "            print(f\"{year} {file_path.name} has been matched, skip it.\")\n",
    "            continue\n",
    "        data = map_company(file_path)\n",
    "        save_file_path = get_save_path(data, match_file_path)\n",
    "        with open(save_file_path, 'w') as f:\n",
    "            json.dump(data, f, indent=4)\n",
    "        print(f\"{year} {file_path.name} matched and saved to {save_file_path}\")"
   ],
   "id": "798f79520542de51",
   "outputs": [
    {
     "name": "stdout",
     "output_type": "stream",
     "text": [
      "Geon Corporation [('Eaton Corporation', 91, 16257), ('GEICO Corporation', 91, 20385)]\n",
      "Young Broadcasting, Inc. [('Young Broadcasting Inc.', 100, 12732), ('USA Broadcasting, Inc.', 86, 8028)]\n",
      "Mitchell Energy & Development Corp. [('Mitchell Energy & Development Corp.', 100, 19974), ('ELECTRICAL DEVELOPMENT CO.', 74, 63069)]\n",
      "Crown Central Petroleum Corporation [('Crown Central Petroleum Corporation', 100, 20393), ('Dyco Petroleum Corporation', 79, 3681)]\n",
      "Mid-American Waste Systems, Inc. [('Mid-American Waste Systems, Inc.', 100, 5474), ('BioMedical Waste Systems, Inc.', 79, 35364)]\n",
      "Chancellor Radio Broadcasting Company [('Chancellor Broadcasting Company', 91, 11325), ('Chancellor Broadcasting Licensee Company', 86, 12267)]\n",
      "Mid-American Waste Systems, Inc. [('Mid-American Waste Systems, Inc.', 100, 5474), ('BioMedical Waste Systems, Inc.', 79, 35364)]\n",
      "Granite Broadcasting [('Noble Broadcasting Group', 77, 434), ('Granite Broadcasting Corporation', 77, 15681)]\n",
      "General Host Corporation [('General Shoe Corporation', 92, 61186), ('Hudson General Corporation', 88, 21723)]\n",
      "Domtar Inc. [('Domtar Inc.', 100, 2589), ('Admar, Inc.', 84, 10621)]\n",
      "Seagull Energy Corporation [('Seagull Energy Corporation', 100, 16172), ('VeraSun Energy Corporation', 85, 6441)]\n",
      "Roy F. Weston, Inc. [('Roy F. Weston, Incorporated', 78, 12609), ('Ryerson Inc.', 74, 27039)]\n",
      "Genesis Health Ventures, Inc. [('Gentiva Health Services, Inc.', 74, 72626), ('Texas Health Enterprises, Inc.', 73, 36256)]\n",
      "Young Broadcasting [('Young Broadcasting Inc.', 90, 12732), ('Lin Broadcasting Corp', 77, 6992)]\n",
      "Ameristeel Corporation [('AmeriSteel Corporation', 100, 20007), ('Ameritech Corporation', 88, 1955)]\n",
      "Omnipoint Corporation [('Omnipoint Corporation', 100, 598), ('Omron Corporation', 84, 2733)]\n",
      "Monarch Marking Systems, Inc. [('Monarch Marking Systems, Inc.', 100, 14415), ('Recom Managed Systems, Inc.', 73, 36475)]\n",
      "Northwestern Steel and Wire Company [('Northwestern Steel & Wire Company', 94, 25587), ('North Star Steel Company', 75, 30623)]\n",
      "Century Communications Corporation [('Century Communications Corp.', 89, 26845), ('Cadmus Communications Corporation', 87, 9807)]\n",
      "Royal Oak Mines Inc. [('Royal Oak Mines Inc.', 100, 14008), ('Palais Royal, Inc.', 69, 13967)]\n",
      "Aetna Industries [('Aetna Industries, Inc.', 89, 13311), ('Atco Industries', 84, 32567)]\n",
      "Echo Bay Mines Ltd. [('Echo Bay Mines Ltd.', 100, 16693), ('China Minmetals Co. Ltd.', 70, 71919)]\n",
      "Sunglass Hut International, Inc. [('Sunglass Hut International, Inc.', 100, 27404), ('SGS International, Inc.', 82, 23472)]\n",
      "WHX Corporation [('DH Corporation', 90, 57476), ('FWD Corporation', 87, 4850)]\n",
      "Pierce Leahy Corp. [('Pierce Leahy Corporation', 83, 14890), ('Lear Petroleum Corp.', 72, 16554)]\n",
      "Agnico-Eagle Mines Ltd [('Agnico Eagle Mines Limited', 92, 29179), ('Eagle Bidco Limited', 68, 76010)]\n",
      "Healthcor [('OrNda HealthCorp', 72, 25932), ('AdaptHealth Corp.', 72, 75274)]\n",
      "Advanced Micro Devices, Inc. [('Advanced Micro Devices, Inc.', 100, 10164), ('Advanced Disposal Services, Inc.', 68, 51520)]\n",
      "Coast Hotels and Casinos, Inc. [('Coast Hotels and Casinos, Inc.', 100, 21245), ('Greate Bay Hotel and Casino Inc.', 78, 8429)]\n",
      "National Fuel Gas Company [('National Fuel Gas Company', 100, 2486), ('Medina Gas & Fuel Company', 83, 66513)]\n",
      "E.I. du Pont de Nemours and Co. (DuPont) [('DuPont de Nemours, Inc.', 67, 73287), ('Banco de Credito e Inversiones', 58, 3816)]\n",
      "Hyundai Semiconductor America, Inc. [('AMI Semiconductor, Inc.', 78, 11173), ('Hyundai Motor America', 78, 59637)]\n",
      "Agnico-Eagle Mines Limited [('Agnico Eagle Mines Limited', 100, 29179), ('Eagle Bidco Limited', 76, 76010)]\n",
      "Azteca Holdings [('Armtec Holdings', 87, 55130), ('AEC (UK) Holdings', 80, 8556)]\n",
      "Amcor Limited [('Ampol Limited', 85, 7770), ('CSR Limited', 83, 30956)]\n",
      "Harrah's Operating Company, Inc. [(\"Harrah's Operating Company, Inc. (Old)\", 94, 9679), ('HLI Operating Company, Inc.', 84, 48178)]\n",
      "Petroliam Nasional Berhad (Petronas) [('Petroliam Nasional Berhad', 85, 23524), ('Tenaga Nasional Berhad', 71, 3510)]\n",
      "Pacific Dunlop Limited [('Pacific Dunlop (Asia) Ltd.', 80, 8191), ('Digicel Pacific Limited', 80, 75236)]\n",
      "Willcox & Gibbs, Inc. [('Willcox & Gibbs Inc.', 100, 7323), ('Willcom Inc.', 71, 48430)]\n",
      "Petsec Energy Inc. [('Petsec Energy Inc.', 100, 22216), ('TECO Energy, Inc.', 88, 5317)]\n",
      "Northwestern Steel and Wire Company [('Northwestern Steel & Wire Company', 94, 25587), ('North Star Steel Company', 75, 30623)]\n",
      "Medaphis Corporation [('MedCath Corporation', 87, 70822), ('Maeda Corporation', 86, 28661)]\n",
      "Allied Waste Industries, Inc. [('Allied Waste Industries, LLC', 85, 24601), ('Allvend Industries, Inc.', 82, 33841)]\n",
      "Seagram Company Ltd. [('Seagram Company Ltd.', 100, 26524), ('Nagase & Company Ltd', 81, 10908)]\n",
      "Genesis Health Ventures [('Genesys Health System', 73, 70669), ('Genesis Healthcare, Inc.', 71, 51411)]\n",
      "Gothic Energy Corporation [('Gothic Energy Corporation', 100, 29184), ('TC Energy Corporation', 91, 27508)]\n",
      "Grupo Televisa, S.A. de C.V. [('Grupo Tribasa S.A. de C.V.', 86, 14513), ('Grupo Televisa, S.A.B.', 84, 32137)]\n",
      "Universal Health Services [('Universal Health Services, Inc.', 93, 20419), ('Universal Hospital Services, Inc. (old)', 73, 4665)]\n",
      "General Media [('General Media, Inc.', 87, 30234), ('Media General, Inc.', 87, 54350)]\n",
      "Adelphia Communications [('Aerial Communications, Inc.', 79, 17935), ('Adelphia Communications Corporation', 79, 22176)]\n",
      "Gulf States Steel, Inc. [('Gulf States Steel Inc.', 100, 14119), ('Gulf States Steel Co. (Del.)', 76, 61266)]\n",
      "APL Ltd [('APW Ltd.', 86, 70435), ('Kohap Ltd.', 75, 1915)]\n",
      "Abraxas Petroleum [('Abraxas Petroleum Corporation', 74, 27489), ('Arapaho Petroleum, Inc.', 74, 35120)]\n",
      "Cooperative Computing, Inc. [('Cooperative Computing Holding Company, Inc.', 76, 2103), ('Secure Computing Corporation', 72, 24725)]\n",
      "Carson, Inc. [('Carson, Inc.', 100, 8), ('Canon Inc.', 84, 4733)]\n",
      "Globo Cabo S.A. [('Carboclor S.A.', 74, 48093), ('Cognor S.A.', 67, 18697)]\n",
      "Globo Cabo S.A. [('Carboclor S.A.', 74, 48093), ('Cognor S.A.', 67, 18697)]\n",
      "Globo Cabo S.A. [('Carboclor S.A.', 74, 48093), ('Cognor S.A.', 67, 18697)]\n",
      "Waste Systems International, Inc. [('Waste Systems International, Inc.', 100, 5692), ('CSG Systems International, Inc.', 83, 18142)]\n",
      "Northwestern Steel & Wire Company [('Northwestern Steel & Wire Company', 100, 25587), ('North Star Steel Company', 80, 30623)]\n",
      "Equistar Chemicals, LP [('Equistar Chemicals, LP', 100, 19968), ('Neste Chemicals Oy', 72, 14759)]\n",
      "Hollywood Theaters [('Hollywood Theaters, Inc.', 90, 16117), ('Hollywood Theaters, Inc. (Old)', 82, 31818)]\n",
      "Growmark, Inc. [('Growmark, Inc.', 100, 17381), ('Bromar, Inc.', 82, 21619)]\n",
      "Continental Resources [('Continental Resources, Inc.', 91, 26580), ('Continental Reinsurance Corp.', 78, 17196)]\n",
      "Benton Oil & Gas Company [('Canton Oil & Gas Company', 91, 8505), ('Buttes Gas & Oil Company', 82, 14111)]\n",
      "NS Group [('SNF Group', 82, 4698), ('PNC Group', 82, 9003)]\n",
      "Century Communications Corporation [('Century Communications Corp.', 89, 26845), ('Cadmus Communications Corporation', 87, 9807)]\n",
      "Coho Energy [('Coho Energy, Inc.', 85, 491), ('Cordova Energy', 80, 50867)]\n",
      "CD Radio [('Cox Radio, Inc.', 67, 6847), ('Reading Co.', 67, 18006)]\n",
      "Central European Media Enterprises Ltd. [('Central European Media Enterprises Ltd.', 100, 20079), ('Yihua Enterprise (Group) Co., Ltd.', 69, 58124)]\n",
      "Kerr-McGee Corporation [('Kerr-McGee Corporation', 100, 2547), ('Kerr Corporation', 84, 5449)]\n",
      "Favorite Brands International, Inc. [('Favorite Brands International, Inc.', 100, 16322), ('Furniture Brands International, Inc.', 90, 3670)]\n",
      "Novacare, Inc. [('NovaCare, Inc.', 100, 18945), ('InnovaCare, Inc.', 92, 49890)]\n",
      "Pediatric Services of America, Inc. (PSAI) [('Pediatric Services of America, Inc.', 93, 1073), ('American Residential Services, Inc.', 73, 10072)]\n",
      "Marks and Spencer Plc [('Marks & Spencer p.l.c.', 80, 21552), ('Marks & Spencer Finance p.l.c.', 75, 30213)]\n",
      "Noble Drilling Corporation [('Noble Drilling Corporation', 100, 13706), ('Noble Holding (U.S.) Corporation', 80, 53709)]\n",
      "Pioneer Natural Resources [('Pioneer Natural Resources Company', 86, 13158), ('Pioneer Natural Resources USA, Inc.', 86, 19941)]\n",
      "Integrated Device Technology, Inc. [('Integrated Device Technology, Inc.', 100, 11240), ('Integrated Defense Technologies, Inc.', 84, 17444)]\n",
      "Commemorative Brands, Inc. [('Commemorative Brands, Inc.', 100, 7806), ('Collective Brands, Inc (Old)', 73, 28575)]\n",
      "C-Cube Microsystems Inc. [('C-Cube Microsystems Inc.', 100, 2824), ('Allegro MicroSystems, Inc.', 77, 75452)]\n",
      "TV Filme [('TV Filme, Inc.', 80, 28292), ('Flex Ltd.', 62, 681)]\n",
      "Southdown Inc. [('SportsTown, Inc.', 74, 38625), ('Verizon South Inc.', 73, 5519)]\n",
      "CMI Industries, Inc. [('CMI Industries Inc.', 100, 6176), ('CIC Industries, Inc.', 94, 293)]\n",
      "McDermott Inc. [('McDermott Inc.', 100, 17984), ('MacDermid Inc.', 77, 19773)]\n",
      "Advance Agro Public Company Limited [('Advance Agro Public Company Limited', 100, 6701), ('Banpu Public Company Limited', 79, 75699)]\n",
      "Penton Media, Inc. [('Penton Media, Inc.', 100, 11758), ('Penton Media, Inc. (OLD)', 89, 10088)]\n"
     ]
    },
    {
     "ename": "KeyboardInterrupt",
     "evalue": "",
     "output_type": "error",
     "traceback": [
      "\u001B[1;31m---------------------------------------------------------------------------\u001B[0m",
      "\u001B[1;31mKeyboardInterrupt\u001B[0m                         Traceback (most recent call last)",
      "Cell \u001B[1;32mIn[7], line 12\u001B[0m\n\u001B[0;32m     10\u001B[0m \u001B[38;5;28;01mif\u001B[39;00m \u001B[38;5;28mlen\u001B[39m(exit_match_file) \u001B[38;5;241m>\u001B[39m \u001B[38;5;241m0\u001B[39m:\n\u001B[0;32m     11\u001B[0m     \u001B[38;5;28;01mcontinue\u001B[39;00m\n\u001B[1;32m---> 12\u001B[0m data \u001B[38;5;241m=\u001B[39m \u001B[43mmap_company\u001B[49m\u001B[43m(\u001B[49m\u001B[43mfile_path\u001B[49m\u001B[43m)\u001B[49m\n\u001B[0;32m     13\u001B[0m save_file_path \u001B[38;5;241m=\u001B[39m get_save_path(data, match_file_path)\n\u001B[0;32m     14\u001B[0m \u001B[38;5;28;01mwith\u001B[39;00m \u001B[38;5;28mopen\u001B[39m(save_file_path, \u001B[38;5;124m'\u001B[39m\u001B[38;5;124mw\u001B[39m\u001B[38;5;124m'\u001B[39m) \u001B[38;5;28;01mas\u001B[39;00m f:\n",
      "Cell \u001B[1;32mIn[4], line 12\u001B[0m, in \u001B[0;36mmap_company\u001B[1;34m(file_name)\u001B[0m\n\u001B[0;32m     10\u001B[0m data[\u001B[38;5;124m'\u001B[39m\u001B[38;5;124mDebt Watch\u001B[39m\u001B[38;5;124m'\u001B[39m] \u001B[38;5;241m=\u001B[39m []\n\u001B[0;32m     11\u001B[0m \u001B[38;5;28;01mif\u001B[39;00m company_name \u001B[38;5;129;01mis\u001B[39;00m \u001B[38;5;129;01mnot\u001B[39;00m \u001B[38;5;28;01mNone\u001B[39;00m \u001B[38;5;129;01mand\u001B[39;00m publish_date \u001B[38;5;129;01mis\u001B[39;00m \u001B[38;5;129;01mnot\u001B[39;00m \u001B[38;5;28;01mNone\u001B[39;00m:\n\u001B[1;32m---> 12\u001B[0m     matches \u001B[38;5;241m=\u001B[39m \u001B[43mmatch_company\u001B[49m\u001B[43m(\u001B[49m\u001B[43mcompany_name\u001B[49m\u001B[43m,\u001B[49m\u001B[43m \u001B[49m\u001B[43mmast_issr_num_name_dict\u001B[49m\u001B[43m,\u001B[49m\u001B[43m \u001B[49m\u001B[43mlimit\u001B[49m\u001B[38;5;241;43m=\u001B[39;49m\u001B[38;5;241;43m2\u001B[39;49m\u001B[43m)\u001B[49m\n\u001B[0;32m     13\u001B[0m     \u001B[38;5;28mprint\u001B[39m(company_name,matches)\n\u001B[0;32m     14\u001B[0m     \u001B[38;5;28;01mif\u001B[39;00m \u001B[38;5;28mlen\u001B[39m(matches) \u001B[38;5;241m>\u001B[39m \u001B[38;5;241m0\u001B[39m:\n",
      "Cell \u001B[1;32mIn[2], line 3\u001B[0m, in \u001B[0;36mmatch_company\u001B[1;34m(name, choices, limit)\u001B[0m\n\u001B[0;32m      2\u001B[0m \u001B[38;5;28;01mdef\u001B[39;00m \u001B[38;5;21mmatch_company\u001B[39m(name, choices, limit\u001B[38;5;241m=\u001B[39m\u001B[38;5;241m5\u001B[39m):\n\u001B[1;32m----> 3\u001B[0m     \u001B[38;5;28;01mreturn\u001B[39;00m \u001B[43mprocess\u001B[49m\u001B[38;5;241;43m.\u001B[39;49m\u001B[43mextract\u001B[49m\u001B[43m(\u001B[49m\u001B[43mname\u001B[49m\u001B[43m,\u001B[49m\u001B[43m \u001B[49m\u001B[43mchoices\u001B[49m\u001B[43m,\u001B[49m\u001B[43m \u001B[49m\u001B[43mscorer\u001B[49m\u001B[38;5;241;43m=\u001B[39;49m\u001B[43mfuzz\u001B[49m\u001B[38;5;241;43m.\u001B[39;49m\u001B[43mtoken_sort_ratio\u001B[49m\u001B[43m,\u001B[49m\u001B[43m \u001B[49m\u001B[43mlimit\u001B[49m\u001B[38;5;241;43m=\u001B[39;49m\u001B[43mlimit\u001B[49m\u001B[43m)\u001B[49m\n",
      "File \u001B[1;32mE:\\miniconda\\envs\\geo\\Lib\\site-packages\\fuzzywuzzy\\process.py:168\u001B[0m, in \u001B[0;36mextract\u001B[1;34m(query, choices, processor, scorer, limit)\u001B[0m\n\u001B[0;32m    123\u001B[0m \u001B[38;5;250m\u001B[39m\u001B[38;5;124;03m\"\"\"Select the best match in a list or dictionary of choices.\u001B[39;00m\n\u001B[0;32m    124\u001B[0m \n\u001B[0;32m    125\u001B[0m \u001B[38;5;124;03mFind best matches in a list or dictionary of choices, return a\u001B[39;00m\n\u001B[1;32m   (...)\u001B[0m\n\u001B[0;32m    165\u001B[0m \u001B[38;5;124;03m    [('train', 22, 'bard'), ('man', 0, 'dog')]\u001B[39;00m\n\u001B[0;32m    166\u001B[0m \u001B[38;5;124;03m\"\"\"\u001B[39;00m\n\u001B[0;32m    167\u001B[0m sl \u001B[38;5;241m=\u001B[39m extractWithoutOrder(query, choices, processor, scorer)\n\u001B[1;32m--> 168\u001B[0m \u001B[38;5;28;01mreturn\u001B[39;00m \u001B[43mheapq\u001B[49m\u001B[38;5;241;43m.\u001B[39;49m\u001B[43mnlargest\u001B[49m\u001B[43m(\u001B[49m\u001B[43mlimit\u001B[49m\u001B[43m,\u001B[49m\u001B[43m \u001B[49m\u001B[43msl\u001B[49m\u001B[43m,\u001B[49m\u001B[43m \u001B[49m\u001B[43mkey\u001B[49m\u001B[38;5;241;43m=\u001B[39;49m\u001B[38;5;28;43;01mlambda\u001B[39;49;00m\u001B[43m \u001B[49m\u001B[43mi\u001B[49m\u001B[43m:\u001B[49m\u001B[43m \u001B[49m\u001B[43mi\u001B[49m\u001B[43m[\u001B[49m\u001B[38;5;241;43m1\u001B[39;49m\u001B[43m]\u001B[49m\u001B[43m)\u001B[49m \u001B[38;5;28;01mif\u001B[39;00m limit \u001B[38;5;129;01mis\u001B[39;00m \u001B[38;5;129;01mnot\u001B[39;00m \u001B[38;5;28;01mNone\u001B[39;00m \u001B[38;5;28;01melse\u001B[39;00m \\\n\u001B[0;32m    169\u001B[0m     \u001B[38;5;28msorted\u001B[39m(sl, key\u001B[38;5;241m=\u001B[39m\u001B[38;5;28;01mlambda\u001B[39;00m i: i[\u001B[38;5;241m1\u001B[39m], reverse\u001B[38;5;241m=\u001B[39m\u001B[38;5;28;01mTrue\u001B[39;00m)\n",
      "File \u001B[1;32mE:\\miniconda\\envs\\geo\\Lib\\heapq.py:572\u001B[0m, in \u001B[0;36mnlargest\u001B[1;34m(n, iterable, key)\u001B[0m\n\u001B[0;32m    570\u001B[0m order \u001B[38;5;241m=\u001B[39m \u001B[38;5;241m-\u001B[39mn\n\u001B[0;32m    571\u001B[0m _heapreplace \u001B[38;5;241m=\u001B[39m heapreplace\n\u001B[1;32m--> 572\u001B[0m \u001B[43m\u001B[49m\u001B[38;5;28;43;01mfor\u001B[39;49;00m\u001B[43m \u001B[49m\u001B[43melem\u001B[49m\u001B[43m \u001B[49m\u001B[38;5;129;43;01min\u001B[39;49;00m\u001B[43m \u001B[49m\u001B[43mit\u001B[49m\u001B[43m:\u001B[49m\n\u001B[0;32m    573\u001B[0m \u001B[43m    \u001B[49m\u001B[43mk\u001B[49m\u001B[43m \u001B[49m\u001B[38;5;241;43m=\u001B[39;49m\u001B[43m \u001B[49m\u001B[43mkey\u001B[49m\u001B[43m(\u001B[49m\u001B[43melem\u001B[49m\u001B[43m)\u001B[49m\n\u001B[0;32m    574\u001B[0m \u001B[43m    \u001B[49m\u001B[38;5;28;43;01mif\u001B[39;49;00m\u001B[43m \u001B[49m\u001B[43mtop\u001B[49m\u001B[43m \u001B[49m\u001B[38;5;241;43m<\u001B[39;49m\u001B[43m \u001B[49m\u001B[43mk\u001B[49m\u001B[43m:\u001B[49m\n",
      "File \u001B[1;32mE:\\miniconda\\envs\\geo\\Lib\\site-packages\\fuzzywuzzy\\process.py:110\u001B[0m, in \u001B[0;36mextractWithoutOrder\u001B[1;34m(query, choices, processor, scorer, score_cutoff)\u001B[0m\n\u001B[0;32m    108\u001B[0m \u001B[38;5;28;01mfor\u001B[39;00m key, choice \u001B[38;5;129;01min\u001B[39;00m choices\u001B[38;5;241m.\u001B[39mitems():\n\u001B[0;32m    109\u001B[0m     processed \u001B[38;5;241m=\u001B[39m pre_processor(processor(choice))\n\u001B[1;32m--> 110\u001B[0m     score \u001B[38;5;241m=\u001B[39m \u001B[43mscorer\u001B[49m\u001B[43m(\u001B[49m\u001B[43mprocessed_query\u001B[49m\u001B[43m,\u001B[49m\u001B[43m \u001B[49m\u001B[43mprocessed\u001B[49m\u001B[43m)\u001B[49m\n\u001B[0;32m    111\u001B[0m     \u001B[38;5;28;01mif\u001B[39;00m score \u001B[38;5;241m>\u001B[39m\u001B[38;5;241m=\u001B[39m score_cutoff:\n\u001B[0;32m    112\u001B[0m         \u001B[38;5;28;01myield\u001B[39;00m (choice, score, key)\n",
      "File \u001B[1;32mE:\\miniconda\\envs\\geo\\Lib\\site-packages\\fuzzywuzzy\\fuzz.py:105\u001B[0m, in \u001B[0;36mtoken_sort_ratio\u001B[1;34m(s1, s2, force_ascii, full_process)\u001B[0m\n\u001B[0;32m    101\u001B[0m \u001B[38;5;28;01mdef\u001B[39;00m \u001B[38;5;21mtoken_sort_ratio\u001B[39m(s1, s2, force_ascii\u001B[38;5;241m=\u001B[39m\u001B[38;5;28;01mTrue\u001B[39;00m, full_process\u001B[38;5;241m=\u001B[39m\u001B[38;5;28;01mTrue\u001B[39;00m):\n\u001B[0;32m    102\u001B[0m \u001B[38;5;250m    \u001B[39m\u001B[38;5;124;03m\"\"\"Return a measure of the sequences' similarity between 0 and 100\u001B[39;00m\n\u001B[0;32m    103\u001B[0m \u001B[38;5;124;03m    but sorting the token before comparing.\u001B[39;00m\n\u001B[0;32m    104\u001B[0m \u001B[38;5;124;03m    \"\"\"\u001B[39;00m\n\u001B[1;32m--> 105\u001B[0m     \u001B[38;5;28;01mreturn\u001B[39;00m \u001B[43m_token_sort\u001B[49m\u001B[43m(\u001B[49m\u001B[43ms1\u001B[49m\u001B[43m,\u001B[49m\u001B[43m \u001B[49m\u001B[43ms2\u001B[49m\u001B[43m,\u001B[49m\u001B[43m \u001B[49m\u001B[43mpartial\u001B[49m\u001B[38;5;241;43m=\u001B[39;49m\u001B[38;5;28;43;01mFalse\u001B[39;49;00m\u001B[43m,\u001B[49m\u001B[43m \u001B[49m\u001B[43mforce_ascii\u001B[49m\u001B[38;5;241;43m=\u001B[39;49m\u001B[43mforce_ascii\u001B[49m\u001B[43m,\u001B[49m\u001B[43m \u001B[49m\u001B[43mfull_process\u001B[49m\u001B[38;5;241;43m=\u001B[39;49m\u001B[43mfull_process\u001B[49m\u001B[43m)\u001B[49m\n",
      "File \u001B[1;32mE:\\miniconda\\envs\\geo\\Lib\\site-packages\\fuzzywuzzy\\utils.py:38\u001B[0m, in \u001B[0;36mcheck_for_none.<locals>.decorator\u001B[1;34m(*args, **kwargs)\u001B[0m\n\u001B[0;32m     36\u001B[0m \u001B[38;5;28;01mif\u001B[39;00m args[\u001B[38;5;241m0\u001B[39m] \u001B[38;5;129;01mis\u001B[39;00m \u001B[38;5;28;01mNone\u001B[39;00m \u001B[38;5;129;01mor\u001B[39;00m args[\u001B[38;5;241m1\u001B[39m] \u001B[38;5;129;01mis\u001B[39;00m \u001B[38;5;28;01mNone\u001B[39;00m:\n\u001B[0;32m     37\u001B[0m     \u001B[38;5;28;01mreturn\u001B[39;00m \u001B[38;5;241m0\u001B[39m\n\u001B[1;32m---> 38\u001B[0m \u001B[38;5;28;01mreturn\u001B[39;00m \u001B[43mfunc\u001B[49m\u001B[43m(\u001B[49m\u001B[38;5;241;43m*\u001B[39;49m\u001B[43margs\u001B[49m\u001B[43m,\u001B[49m\u001B[43m \u001B[49m\u001B[38;5;241;43m*\u001B[39;49m\u001B[38;5;241;43m*\u001B[39;49m\u001B[43mkwargs\u001B[49m\u001B[43m)\u001B[49m\n",
      "File \u001B[1;32mE:\\miniconda\\envs\\geo\\Lib\\site-packages\\fuzzywuzzy\\fuzz.py:98\u001B[0m, in \u001B[0;36m_token_sort\u001B[1;34m(s1, s2, partial, force_ascii, full_process)\u001B[0m\n\u001B[0;32m     96\u001B[0m     \u001B[38;5;28;01mreturn\u001B[39;00m partial_ratio(sorted1, sorted2)\n\u001B[0;32m     97\u001B[0m \u001B[38;5;28;01melse\u001B[39;00m:\n\u001B[1;32m---> 98\u001B[0m     \u001B[38;5;28;01mreturn\u001B[39;00m \u001B[43mratio\u001B[49m\u001B[43m(\u001B[49m\u001B[43msorted1\u001B[49m\u001B[43m,\u001B[49m\u001B[43m \u001B[49m\u001B[43msorted2\u001B[49m\u001B[43m)\u001B[49m\n",
      "File \u001B[1;32mE:\\miniconda\\envs\\geo\\Lib\\site-packages\\fuzzywuzzy\\utils.py:38\u001B[0m, in \u001B[0;36mcheck_for_none.<locals>.decorator\u001B[1;34m(*args, **kwargs)\u001B[0m\n\u001B[0;32m     36\u001B[0m \u001B[38;5;28;01mif\u001B[39;00m args[\u001B[38;5;241m0\u001B[39m] \u001B[38;5;129;01mis\u001B[39;00m \u001B[38;5;28;01mNone\u001B[39;00m \u001B[38;5;129;01mor\u001B[39;00m args[\u001B[38;5;241m1\u001B[39m] \u001B[38;5;129;01mis\u001B[39;00m \u001B[38;5;28;01mNone\u001B[39;00m:\n\u001B[0;32m     37\u001B[0m     \u001B[38;5;28;01mreturn\u001B[39;00m \u001B[38;5;241m0\u001B[39m\n\u001B[1;32m---> 38\u001B[0m \u001B[38;5;28;01mreturn\u001B[39;00m \u001B[43mfunc\u001B[49m\u001B[43m(\u001B[49m\u001B[38;5;241;43m*\u001B[39;49m\u001B[43margs\u001B[49m\u001B[43m,\u001B[49m\u001B[43m \u001B[49m\u001B[38;5;241;43m*\u001B[39;49m\u001B[38;5;241;43m*\u001B[39;49m\u001B[43mkwargs\u001B[49m\u001B[43m)\u001B[49m\n",
      "File \u001B[1;32mE:\\miniconda\\envs\\geo\\Lib\\site-packages\\fuzzywuzzy\\utils.py:29\u001B[0m, in \u001B[0;36mcheck_for_equivalence.<locals>.decorator\u001B[1;34m(*args, **kwargs)\u001B[0m\n\u001B[0;32m     27\u001B[0m \u001B[38;5;28;01mif\u001B[39;00m args[\u001B[38;5;241m0\u001B[39m] \u001B[38;5;241m==\u001B[39m args[\u001B[38;5;241m1\u001B[39m]:\n\u001B[0;32m     28\u001B[0m     \u001B[38;5;28;01mreturn\u001B[39;00m \u001B[38;5;241m100\u001B[39m\n\u001B[1;32m---> 29\u001B[0m \u001B[38;5;28;01mreturn\u001B[39;00m \u001B[43mfunc\u001B[49m\u001B[43m(\u001B[49m\u001B[38;5;241;43m*\u001B[39;49m\u001B[43margs\u001B[49m\u001B[43m,\u001B[49m\u001B[43m \u001B[49m\u001B[38;5;241;43m*\u001B[39;49m\u001B[38;5;241;43m*\u001B[39;49m\u001B[43mkwargs\u001B[49m\u001B[43m)\u001B[49m\n",
      "File \u001B[1;32mE:\\miniconda\\envs\\geo\\Lib\\site-packages\\fuzzywuzzy\\utils.py:47\u001B[0m, in \u001B[0;36mcheck_empty_string.<locals>.decorator\u001B[1;34m(*args, **kwargs)\u001B[0m\n\u001B[0;32m     45\u001B[0m \u001B[38;5;28;01mif\u001B[39;00m \u001B[38;5;28mlen\u001B[39m(args[\u001B[38;5;241m0\u001B[39m]) \u001B[38;5;241m==\u001B[39m \u001B[38;5;241m0\u001B[39m \u001B[38;5;129;01mor\u001B[39;00m \u001B[38;5;28mlen\u001B[39m(args[\u001B[38;5;241m1\u001B[39m]) \u001B[38;5;241m==\u001B[39m \u001B[38;5;241m0\u001B[39m:\n\u001B[0;32m     46\u001B[0m     \u001B[38;5;28;01mreturn\u001B[39;00m \u001B[38;5;241m0\u001B[39m\n\u001B[1;32m---> 47\u001B[0m \u001B[38;5;28;01mreturn\u001B[39;00m \u001B[43mfunc\u001B[49m\u001B[43m(\u001B[49m\u001B[38;5;241;43m*\u001B[39;49m\u001B[43margs\u001B[49m\u001B[43m,\u001B[49m\u001B[43m \u001B[49m\u001B[38;5;241;43m*\u001B[39;49m\u001B[38;5;241;43m*\u001B[39;49m\u001B[43mkwargs\u001B[49m\u001B[43m)\u001B[49m\n",
      "File \u001B[1;32mE:\\miniconda\\envs\\geo\\Lib\\site-packages\\fuzzywuzzy\\fuzz.py:28\u001B[0m, in \u001B[0;36mratio\u001B[1;34m(s1, s2)\u001B[0m\n\u001B[0;32m     25\u001B[0m s1, s2 \u001B[38;5;241m=\u001B[39m utils\u001B[38;5;241m.\u001B[39mmake_type_consistent(s1, s2)\n\u001B[0;32m     27\u001B[0m m \u001B[38;5;241m=\u001B[39m SequenceMatcher(\u001B[38;5;28;01mNone\u001B[39;00m, s1, s2)\n\u001B[1;32m---> 28\u001B[0m \u001B[38;5;28;01mreturn\u001B[39;00m \u001B[43mutils\u001B[49m\u001B[38;5;241;43m.\u001B[39;49m\u001B[43mintr\u001B[49m\u001B[43m(\u001B[49m\u001B[38;5;241;43m100\u001B[39;49m\u001B[43m \u001B[49m\u001B[38;5;241;43m*\u001B[39;49m\u001B[43m \u001B[49m\u001B[43mm\u001B[49m\u001B[38;5;241;43m.\u001B[39;49m\u001B[43mratio\u001B[49m\u001B[43m(\u001B[49m\u001B[43m)\u001B[49m\u001B[43m)\u001B[49m\n",
      "File \u001B[1;32mE:\\miniconda\\envs\\geo\\Lib\\site-packages\\fuzzywuzzy\\utils.py:103\u001B[0m, in \u001B[0;36mintr\u001B[1;34m(n)\u001B[0m\n\u001B[0;32m     99\u001B[0m     string_out \u001B[38;5;241m=\u001B[39m StringProcessor\u001B[38;5;241m.\u001B[39mstrip(string_out)\n\u001B[0;32m    100\u001B[0m     \u001B[38;5;28;01mreturn\u001B[39;00m string_out\n\u001B[1;32m--> 103\u001B[0m \u001B[38;5;28;01mdef\u001B[39;00m \u001B[38;5;21mintr\u001B[39m(n):\n\u001B[0;32m    104\u001B[0m \u001B[38;5;250m    \u001B[39m\u001B[38;5;124;03m'''Returns a correctly rounded integer'''\u001B[39;00m\n\u001B[0;32m    105\u001B[0m     \u001B[38;5;28;01mreturn\u001B[39;00m \u001B[38;5;28mint\u001B[39m(\u001B[38;5;28mround\u001B[39m(n))\n",
      "\u001B[1;31mKeyboardInterrupt\u001B[0m: "
     ]
    }
   ],
   "execution_count": 7
  },
  {
   "metadata": {
    "ExecuteTime": {
     "end_time": "2024-10-22T13:54:24.641558Z",
     "start_time": "2024-10-22T13:54:24.632710Z"
    }
   },
   "cell_type": "code",
   "source": [
    "\n",
    "\n",
    "# 示例使用\n",
    "date_str1 = \"2024-10-22\"\n",
    "date_str2 = \"2024-10-22 10:30:00\"\n",
    "\n",
    "print(add_time_if_missing(date_str1))  # 输出: 2024-10-22 23:59:59\n",
    "print(add_time_if_missing(date_str2))  # 输出: 2024-10-22 10:30:00\n"
   ],
   "id": "381f927a536233cb",
   "outputs": [
    {
     "name": "stdout",
     "output_type": "stream",
     "text": [
      "2024-10-22 23:59:59\n",
      "2024-10-22 10:30:00\n"
     ]
    }
   ],
   "execution_count": 9
  },
  {
   "metadata": {},
   "cell_type": "code",
   "outputs": [],
   "execution_count": null,
   "source": "",
   "id": "e6b53fdaab2c898"
  }
 ],
 "metadata": {
  "kernelspec": {
   "display_name": "Python 3",
   "language": "python",
   "name": "python3"
  },
  "language_info": {
   "codemirror_mode": {
    "name": "ipython",
    "version": 2
   },
   "file_extension": ".py",
   "mimetype": "text/x-python",
   "name": "python",
   "nbconvert_exporter": "python",
   "pygments_lexer": "ipython2",
   "version": "2.7.6"
  }
 },
 "nbformat": 4,
 "nbformat_minor": 5
}
